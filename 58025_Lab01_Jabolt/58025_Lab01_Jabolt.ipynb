{
  "nbformat": 4,
  "nbformat_minor": 0,
  "metadata": {
    "colab": {
      "name": "58025_Lab01_Jabolt",
      "provenance": [],
      "authorship_tag": "ABX9TyM8PQXnaE89KnqrAybBqBvD",
      "include_colab_link": true
    },
    "kernelspec": {
      "name": "python3",
      "display_name": "Python 3"
    },
    "language_info": {
      "name": "python"
    }
  },
  "cells": [
    {
      "cell_type": "markdown",
      "metadata": {
        "id": "view-in-github",
        "colab_type": "text"
      },
      "source": [
        "<a href=\"https://colab.research.google.com/github/DeanAdrian/AIDA3-Laboratory/blob/main/58025_Lab01_Jabolt/58025_Lab01_Jabolt.ipynb\" target=\"_parent\"><img src=\"https://colab.research.google.com/assets/colab-badge.svg\" alt=\"Open In Colab\"/></a>"
      ]
    },
    {
      "cell_type": "markdown",
      "source": [
        "#Importing of Libraries"
      ],
      "metadata": {
        "id": "mIZ1ETOVR9DN"
      }
    },
    {
      "cell_type": "code",
      "execution_count": 36,
      "metadata": {
        "id": "gIB9oz7eCRp_"
      },
      "outputs": [],
      "source": [
        "import matplotlib.pyplot as plt\n",
        "import seaborn as sns\n",
        "from matplotlib.pyplot import figure\n",
        "import pandas as pd\n",
        "import numpy as np\n",
        "from sklearn.model_selection import train_test_split\n",
        "import warnings\n",
        "warnings.filterwarnings('ignore')\n",
        "\n",
        "# Tensorflow Libraries\n",
        "import tensorflow as tf\n",
        "from tensorflow.keras.layers import Activation\n",
        "from tensorflow.nn import sigmoid, tanh, softmax, relu, leaky_relu\n",
        "from tensorflow.keras.optimizers import Adam, SGD, RMSprop\n",
        "from tensorflow.keras.losses import MSE, MAE"
      ]
    },
    {
      "cell_type": "markdown",
      "source": [
        "#Importing of Dataset\n",
        "\n",
        "The following cell contains the code for importing the iris dataset as well as renaming the features to the appropriate name."
      ],
      "metadata": {
        "id": "YznOgcX5R_7k"
      }
    },
    {
      "cell_type": "code",
      "source": [
        "df = pd.read_csv('https://archive.ics.uci.edu/ml/machine-learning-databases/iris/iris.data')\n",
        "#df = pd.read_csv('/content/iris (1).data')\n",
        "df.columns = ['SepalLengthCm', 'SepalWidthCm', 'PetalLengthCm', 'PetalWidthCm', 'Species']\n",
        "df.head()"
      ],
      "metadata": {
        "colab": {
          "base_uri": "https://localhost:8080/",
          "height": 206
        },
        "id": "o3_MqnMND_vM",
        "outputId": "1dea790b-575d-4d1f-aeed-bc175edd196f"
      },
      "execution_count": 37,
      "outputs": [
        {
          "output_type": "execute_result",
          "data": {
            "text/html": [
              "\n",
              "  <div id=\"df-36cf7810-2a56-4a8d-94f2-8e7d45740a2e\">\n",
              "    <div class=\"colab-df-container\">\n",
              "      <div>\n",
              "<style scoped>\n",
              "    .dataframe tbody tr th:only-of-type {\n",
              "        vertical-align: middle;\n",
              "    }\n",
              "\n",
              "    .dataframe tbody tr th {\n",
              "        vertical-align: top;\n",
              "    }\n",
              "\n",
              "    .dataframe thead th {\n",
              "        text-align: right;\n",
              "    }\n",
              "</style>\n",
              "<table border=\"1\" class=\"dataframe\">\n",
              "  <thead>\n",
              "    <tr style=\"text-align: right;\">\n",
              "      <th></th>\n",
              "      <th>SepalLengthCm</th>\n",
              "      <th>SepalWidthCm</th>\n",
              "      <th>PetalLengthCm</th>\n",
              "      <th>PetalWidthCm</th>\n",
              "      <th>Species</th>\n",
              "    </tr>\n",
              "  </thead>\n",
              "  <tbody>\n",
              "    <tr>\n",
              "      <th>0</th>\n",
              "      <td>4.9</td>\n",
              "      <td>3.0</td>\n",
              "      <td>1.4</td>\n",
              "      <td>0.2</td>\n",
              "      <td>Iris-setosa</td>\n",
              "    </tr>\n",
              "    <tr>\n",
              "      <th>1</th>\n",
              "      <td>4.7</td>\n",
              "      <td>3.2</td>\n",
              "      <td>1.3</td>\n",
              "      <td>0.2</td>\n",
              "      <td>Iris-setosa</td>\n",
              "    </tr>\n",
              "    <tr>\n",
              "      <th>2</th>\n",
              "      <td>4.6</td>\n",
              "      <td>3.1</td>\n",
              "      <td>1.5</td>\n",
              "      <td>0.2</td>\n",
              "      <td>Iris-setosa</td>\n",
              "    </tr>\n",
              "    <tr>\n",
              "      <th>3</th>\n",
              "      <td>5.0</td>\n",
              "      <td>3.6</td>\n",
              "      <td>1.4</td>\n",
              "      <td>0.2</td>\n",
              "      <td>Iris-setosa</td>\n",
              "    </tr>\n",
              "    <tr>\n",
              "      <th>4</th>\n",
              "      <td>5.4</td>\n",
              "      <td>3.9</td>\n",
              "      <td>1.7</td>\n",
              "      <td>0.4</td>\n",
              "      <td>Iris-setosa</td>\n",
              "    </tr>\n",
              "  </tbody>\n",
              "</table>\n",
              "</div>\n",
              "      <button class=\"colab-df-convert\" onclick=\"convertToInteractive('df-36cf7810-2a56-4a8d-94f2-8e7d45740a2e')\"\n",
              "              title=\"Convert this dataframe to an interactive table.\"\n",
              "              style=\"display:none;\">\n",
              "        \n",
              "  <svg xmlns=\"http://www.w3.org/2000/svg\" height=\"24px\"viewBox=\"0 0 24 24\"\n",
              "       width=\"24px\">\n",
              "    <path d=\"M0 0h24v24H0V0z\" fill=\"none\"/>\n",
              "    <path d=\"M18.56 5.44l.94 2.06.94-2.06 2.06-.94-2.06-.94-.94-2.06-.94 2.06-2.06.94zm-11 1L8.5 8.5l.94-2.06 2.06-.94-2.06-.94L8.5 2.5l-.94 2.06-2.06.94zm10 10l.94 2.06.94-2.06 2.06-.94-2.06-.94-.94-2.06-.94 2.06-2.06.94z\"/><path d=\"M17.41 7.96l-1.37-1.37c-.4-.4-.92-.59-1.43-.59-.52 0-1.04.2-1.43.59L10.3 9.45l-7.72 7.72c-.78.78-.78 2.05 0 2.83L4 21.41c.39.39.9.59 1.41.59.51 0 1.02-.2 1.41-.59l7.78-7.78 2.81-2.81c.8-.78.8-2.07 0-2.86zM5.41 20L4 18.59l7.72-7.72 1.47 1.35L5.41 20z\"/>\n",
              "  </svg>\n",
              "      </button>\n",
              "      \n",
              "  <style>\n",
              "    .colab-df-container {\n",
              "      display:flex;\n",
              "      flex-wrap:wrap;\n",
              "      gap: 12px;\n",
              "    }\n",
              "\n",
              "    .colab-df-convert {\n",
              "      background-color: #E8F0FE;\n",
              "      border: none;\n",
              "      border-radius: 50%;\n",
              "      cursor: pointer;\n",
              "      display: none;\n",
              "      fill: #1967D2;\n",
              "      height: 32px;\n",
              "      padding: 0 0 0 0;\n",
              "      width: 32px;\n",
              "    }\n",
              "\n",
              "    .colab-df-convert:hover {\n",
              "      background-color: #E2EBFA;\n",
              "      box-shadow: 0px 1px 2px rgba(60, 64, 67, 0.3), 0px 1px 3px 1px rgba(60, 64, 67, 0.15);\n",
              "      fill: #174EA6;\n",
              "    }\n",
              "\n",
              "    [theme=dark] .colab-df-convert {\n",
              "      background-color: #3B4455;\n",
              "      fill: #D2E3FC;\n",
              "    }\n",
              "\n",
              "    [theme=dark] .colab-df-convert:hover {\n",
              "      background-color: #434B5C;\n",
              "      box-shadow: 0px 1px 3px 1px rgba(0, 0, 0, 0.15);\n",
              "      filter: drop-shadow(0px 1px 2px rgba(0, 0, 0, 0.3));\n",
              "      fill: #FFFFFF;\n",
              "    }\n",
              "  </style>\n",
              "\n",
              "      <script>\n",
              "        const buttonEl =\n",
              "          document.querySelector('#df-36cf7810-2a56-4a8d-94f2-8e7d45740a2e button.colab-df-convert');\n",
              "        buttonEl.style.display =\n",
              "          google.colab.kernel.accessAllowed ? 'block' : 'none';\n",
              "\n",
              "        async function convertToInteractive(key) {\n",
              "          const element = document.querySelector('#df-36cf7810-2a56-4a8d-94f2-8e7d45740a2e');\n",
              "          const dataTable =\n",
              "            await google.colab.kernel.invokeFunction('convertToInteractive',\n",
              "                                                     [key], {});\n",
              "          if (!dataTable) return;\n",
              "\n",
              "          const docLinkHtml = 'Like what you see? Visit the ' +\n",
              "            '<a target=\"_blank\" href=https://colab.research.google.com/notebooks/data_table.ipynb>data table notebook</a>'\n",
              "            + ' to learn more about interactive tables.';\n",
              "          element.innerHTML = '';\n",
              "          dataTable['output_type'] = 'display_data';\n",
              "          await google.colab.output.renderOutput(dataTable, element);\n",
              "          const docLink = document.createElement('div');\n",
              "          docLink.innerHTML = docLinkHtml;\n",
              "          element.appendChild(docLink);\n",
              "        }\n",
              "      </script>\n",
              "    </div>\n",
              "  </div>\n",
              "  "
            ],
            "text/plain": [
              "   SepalLengthCm  SepalWidthCm  PetalLengthCm  PetalWidthCm      Species\n",
              "0            4.9           3.0            1.4           0.2  Iris-setosa\n",
              "1            4.7           3.2            1.3           0.2  Iris-setosa\n",
              "2            4.6           3.1            1.5           0.2  Iris-setosa\n",
              "3            5.0           3.6            1.4           0.2  Iris-setosa\n",
              "4            5.4           3.9            1.7           0.4  Iris-setosa"
            ]
          },
          "metadata": {},
          "execution_count": 37
        }
      ]
    },
    {
      "cell_type": "markdown",
      "source": [
        "#Exploring Dataset"
      ],
      "metadata": {
        "id": "8wo1QA0KSCQn"
      }
    },
    {
      "cell_type": "code",
      "source": [
        "df.dropna()\n",
        "df.shape"
      ],
      "metadata": {
        "colab": {
          "base_uri": "https://localhost:8080/"
        },
        "id": "pDntEvJdEAjH",
        "outputId": "1b9cf064-1971-4f89-9b04-4ea46faea829"
      },
      "execution_count": 38,
      "outputs": [
        {
          "output_type": "execute_result",
          "data": {
            "text/plain": [
              "(149, 5)"
            ]
          },
          "metadata": {},
          "execution_count": 38
        }
      ]
    },
    {
      "cell_type": "code",
      "source": [
        "df.describe()"
      ],
      "metadata": {
        "colab": {
          "base_uri": "https://localhost:8080/",
          "height": 300
        },
        "id": "R8yoDHnpPMQD",
        "outputId": "b7fce6e9-b60b-42b7-bb51-c6b7fad01984"
      },
      "execution_count": 39,
      "outputs": [
        {
          "output_type": "execute_result",
          "data": {
            "text/html": [
              "\n",
              "  <div id=\"df-558ff954-e1b4-4ba7-a070-a006a001675b\">\n",
              "    <div class=\"colab-df-container\">\n",
              "      <div>\n",
              "<style scoped>\n",
              "    .dataframe tbody tr th:only-of-type {\n",
              "        vertical-align: middle;\n",
              "    }\n",
              "\n",
              "    .dataframe tbody tr th {\n",
              "        vertical-align: top;\n",
              "    }\n",
              "\n",
              "    .dataframe thead th {\n",
              "        text-align: right;\n",
              "    }\n",
              "</style>\n",
              "<table border=\"1\" class=\"dataframe\">\n",
              "  <thead>\n",
              "    <tr style=\"text-align: right;\">\n",
              "      <th></th>\n",
              "      <th>SepalLengthCm</th>\n",
              "      <th>SepalWidthCm</th>\n",
              "      <th>PetalLengthCm</th>\n",
              "      <th>PetalWidthCm</th>\n",
              "    </tr>\n",
              "  </thead>\n",
              "  <tbody>\n",
              "    <tr>\n",
              "      <th>count</th>\n",
              "      <td>149.000000</td>\n",
              "      <td>149.000000</td>\n",
              "      <td>149.000000</td>\n",
              "      <td>149.000000</td>\n",
              "    </tr>\n",
              "    <tr>\n",
              "      <th>mean</th>\n",
              "      <td>5.848322</td>\n",
              "      <td>3.051007</td>\n",
              "      <td>3.774497</td>\n",
              "      <td>1.205369</td>\n",
              "    </tr>\n",
              "    <tr>\n",
              "      <th>std</th>\n",
              "      <td>0.828594</td>\n",
              "      <td>0.433499</td>\n",
              "      <td>1.759651</td>\n",
              "      <td>0.761292</td>\n",
              "    </tr>\n",
              "    <tr>\n",
              "      <th>min</th>\n",
              "      <td>4.300000</td>\n",
              "      <td>2.000000</td>\n",
              "      <td>1.000000</td>\n",
              "      <td>0.100000</td>\n",
              "    </tr>\n",
              "    <tr>\n",
              "      <th>25%</th>\n",
              "      <td>5.100000</td>\n",
              "      <td>2.800000</td>\n",
              "      <td>1.600000</td>\n",
              "      <td>0.300000</td>\n",
              "    </tr>\n",
              "    <tr>\n",
              "      <th>50%</th>\n",
              "      <td>5.800000</td>\n",
              "      <td>3.000000</td>\n",
              "      <td>4.400000</td>\n",
              "      <td>1.300000</td>\n",
              "    </tr>\n",
              "    <tr>\n",
              "      <th>75%</th>\n",
              "      <td>6.400000</td>\n",
              "      <td>3.300000</td>\n",
              "      <td>5.100000</td>\n",
              "      <td>1.800000</td>\n",
              "    </tr>\n",
              "    <tr>\n",
              "      <th>max</th>\n",
              "      <td>7.900000</td>\n",
              "      <td>4.400000</td>\n",
              "      <td>6.900000</td>\n",
              "      <td>2.500000</td>\n",
              "    </tr>\n",
              "  </tbody>\n",
              "</table>\n",
              "</div>\n",
              "      <button class=\"colab-df-convert\" onclick=\"convertToInteractive('df-558ff954-e1b4-4ba7-a070-a006a001675b')\"\n",
              "              title=\"Convert this dataframe to an interactive table.\"\n",
              "              style=\"display:none;\">\n",
              "        \n",
              "  <svg xmlns=\"http://www.w3.org/2000/svg\" height=\"24px\"viewBox=\"0 0 24 24\"\n",
              "       width=\"24px\">\n",
              "    <path d=\"M0 0h24v24H0V0z\" fill=\"none\"/>\n",
              "    <path d=\"M18.56 5.44l.94 2.06.94-2.06 2.06-.94-2.06-.94-.94-2.06-.94 2.06-2.06.94zm-11 1L8.5 8.5l.94-2.06 2.06-.94-2.06-.94L8.5 2.5l-.94 2.06-2.06.94zm10 10l.94 2.06.94-2.06 2.06-.94-2.06-.94-.94-2.06-.94 2.06-2.06.94z\"/><path d=\"M17.41 7.96l-1.37-1.37c-.4-.4-.92-.59-1.43-.59-.52 0-1.04.2-1.43.59L10.3 9.45l-7.72 7.72c-.78.78-.78 2.05 0 2.83L4 21.41c.39.39.9.59 1.41.59.51 0 1.02-.2 1.41-.59l7.78-7.78 2.81-2.81c.8-.78.8-2.07 0-2.86zM5.41 20L4 18.59l7.72-7.72 1.47 1.35L5.41 20z\"/>\n",
              "  </svg>\n",
              "      </button>\n",
              "      \n",
              "  <style>\n",
              "    .colab-df-container {\n",
              "      display:flex;\n",
              "      flex-wrap:wrap;\n",
              "      gap: 12px;\n",
              "    }\n",
              "\n",
              "    .colab-df-convert {\n",
              "      background-color: #E8F0FE;\n",
              "      border: none;\n",
              "      border-radius: 50%;\n",
              "      cursor: pointer;\n",
              "      display: none;\n",
              "      fill: #1967D2;\n",
              "      height: 32px;\n",
              "      padding: 0 0 0 0;\n",
              "      width: 32px;\n",
              "    }\n",
              "\n",
              "    .colab-df-convert:hover {\n",
              "      background-color: #E2EBFA;\n",
              "      box-shadow: 0px 1px 2px rgba(60, 64, 67, 0.3), 0px 1px 3px 1px rgba(60, 64, 67, 0.15);\n",
              "      fill: #174EA6;\n",
              "    }\n",
              "\n",
              "    [theme=dark] .colab-df-convert {\n",
              "      background-color: #3B4455;\n",
              "      fill: #D2E3FC;\n",
              "    }\n",
              "\n",
              "    [theme=dark] .colab-df-convert:hover {\n",
              "      background-color: #434B5C;\n",
              "      box-shadow: 0px 1px 3px 1px rgba(0, 0, 0, 0.15);\n",
              "      filter: drop-shadow(0px 1px 2px rgba(0, 0, 0, 0.3));\n",
              "      fill: #FFFFFF;\n",
              "    }\n",
              "  </style>\n",
              "\n",
              "      <script>\n",
              "        const buttonEl =\n",
              "          document.querySelector('#df-558ff954-e1b4-4ba7-a070-a006a001675b button.colab-df-convert');\n",
              "        buttonEl.style.display =\n",
              "          google.colab.kernel.accessAllowed ? 'block' : 'none';\n",
              "\n",
              "        async function convertToInteractive(key) {\n",
              "          const element = document.querySelector('#df-558ff954-e1b4-4ba7-a070-a006a001675b');\n",
              "          const dataTable =\n",
              "            await google.colab.kernel.invokeFunction('convertToInteractive',\n",
              "                                                     [key], {});\n",
              "          if (!dataTable) return;\n",
              "\n",
              "          const docLinkHtml = 'Like what you see? Visit the ' +\n",
              "            '<a target=\"_blank\" href=https://colab.research.google.com/notebooks/data_table.ipynb>data table notebook</a>'\n",
              "            + ' to learn more about interactive tables.';\n",
              "          element.innerHTML = '';\n",
              "          dataTable['output_type'] = 'display_data';\n",
              "          await google.colab.output.renderOutput(dataTable, element);\n",
              "          const docLink = document.createElement('div');\n",
              "          docLink.innerHTML = docLinkHtml;\n",
              "          element.appendChild(docLink);\n",
              "        }\n",
              "      </script>\n",
              "    </div>\n",
              "  </div>\n",
              "  "
            ],
            "text/plain": [
              "       SepalLengthCm  SepalWidthCm  PetalLengthCm  PetalWidthCm\n",
              "count     149.000000    149.000000     149.000000    149.000000\n",
              "mean        5.848322      3.051007       3.774497      1.205369\n",
              "std         0.828594      0.433499       1.759651      0.761292\n",
              "min         4.300000      2.000000       1.000000      0.100000\n",
              "25%         5.100000      2.800000       1.600000      0.300000\n",
              "50%         5.800000      3.000000       4.400000      1.300000\n",
              "75%         6.400000      3.300000       5.100000      1.800000\n",
              "max         7.900000      4.400000       6.900000      2.500000"
            ]
          },
          "metadata": {},
          "execution_count": 39
        }
      ]
    },
    {
      "cell_type": "code",
      "source": [
        "df['Species'].value_counts() "
      ],
      "metadata": {
        "colab": {
          "base_uri": "https://localhost:8080/"
        },
        "id": "yxHakRHrPNzj",
        "outputId": "5543fa08-e208-4579-dfae-eb4c267e9722"
      },
      "execution_count": 40,
      "outputs": [
        {
          "output_type": "execute_result",
          "data": {
            "text/plain": [
              "Iris-versicolor    50\n",
              "Iris-virginica     50\n",
              "Iris-setosa        49\n",
              "Name: Species, dtype: int64"
            ]
          },
          "metadata": {},
          "execution_count": 40
        }
      ]
    },
    {
      "cell_type": "markdown",
      "source": [
        "#Dataset Visualizations\n",
        "\n",
        "Here are basic visualizations to better see the contents of the dataset and how the three different species of irises are closely related to each other in terms of their physical characteristics."
      ],
      "metadata": {
        "id": "koDt1AuqSG93"
      }
    },
    {
      "cell_type": "code",
      "source": [
        "df.plot(kind=\"scatter\", x=\"SepalLengthCm\", y=\"SepalWidthCm\")"
      ],
      "metadata": {
        "colab": {
          "base_uri": "https://localhost:8080/",
          "height": 299
        },
        "id": "x2PdN_Y7RB12",
        "outputId": "635ef5bf-2ae1-4b7e-f693-5d8a5aa205d1"
      },
      "execution_count": 41,
      "outputs": [
        {
          "output_type": "execute_result",
          "data": {
            "text/plain": [
              "<matplotlib.axes._subplots.AxesSubplot at 0x7ff5082af950>"
            ]
          },
          "metadata": {},
          "execution_count": 41
        },
        {
          "output_type": "display_data",
          "data": {
            "image/png": "[encoded data removed]",
            "text/plain": [
              "<Figure size 432x288 with 1 Axes>"
            ]
          },
          "metadata": {
            "needs_background": "light"
          }
        }
      ]
    },
    {
      "cell_type": "markdown",
      "source": [
        "Below is a plotted figure containing all of the listed irises in the dataset. Each dot represents a specific iris species with the similar colors indicating that they are of the same species."
      ],
      "metadata": {
        "id": "8DLAwGHaVbUv"
      }
    },
    {
      "cell_type": "code",
      "source": [
        "sns.FacetGrid(df, hue=\"Species\", size = 5, ).map(plt.scatter, \"SepalLengthCm\", \"SepalWidthCm\").add_legend()"
      ],
      "metadata": {
        "colab": {
          "base_uri": "https://localhost:8080/",
          "height": 386
        },
        "id": "jWniLx5QPRb0",
        "outputId": "8980edc8-682a-49f0-adba-32a3da42994f"
      },
      "execution_count": 43,
      "outputs": [
        {
          "output_type": "execute_result",
          "data": {
            "text/plain": [
              "<seaborn.axisgrid.FacetGrid at 0x7ff5084200d0>"
            ]
          },
          "metadata": {},
          "execution_count": 43
        },
        {
          "output_type": "display_data",
          "data": {
            "image/png": "[encoded data removed]",
            "text/plain": [
              "<Figure size 463.25x360 with 1 Axes>"
            ]
          },
          "metadata": {
            "needs_background": "light"
          }
        }
      ]
    },
    {
      "cell_type": "code",
      "source": [
        "sns.pairplot(df, hue=\"Species\", size=3)"
      ],
      "metadata": {
        "id": "u-v2YkdVPzjq"
      },
      "execution_count": null,
      "outputs": []
    },
    {
      "cell_type": "markdown",
      "source": [
        "#Initializing Models"
      ],
      "metadata": {
        "id": "tFsaU9joSr2t"
      }
    },
    {
      "cell_type": "markdown",
      "source": [
        "#### Declaration of variables"
      ],
      "metadata": {
        "id": "7ghZMrrAngVN"
      }
    },
    {
      "cell_type": "code",
      "source": [
        "new_df = df.drop(df.index[100:150]) ## Remove last 50 rows to only compare setosa and versicolor species\n",
        "\n",
        "y = new_df.iloc[:, 4].values\n",
        "y = np.where(y == 'Iris-setosa', -1, 1)\n",
        "X = new_df.iloc[:, [0, 2]].values\n",
        "X_train1 = X[0:50,0:2]\n",
        "y_train1 = X[50:100,0:2]\n",
        "X_train2 = np.array(X_train1)\n",
        "y_train2 = np.array(y_train1)\n",
        "\n",
        "X1 = np.append(X_train2,np.ones((X_train2.shape[0],1)),axis=1)\n",
        "X2 = np.append(y_train2,np.zeros((y_train2.shape[0],1)),axis=1)\n",
        "\n",
        "new_df2 = np.vstack((X1,X2)) \n",
        "np.random.shuffle(new_df2)\n",
        "X_train = new_df2[:,0:2]\n",
        "y_train = new_df2[:,-1]"
      ],
      "metadata": {
        "id": "d_C65-2-QLa5"
      },
      "execution_count": null,
      "outputs": []
    },
    {
      "cell_type": "markdown",
      "source": [
        "#### Plotting of the two iris species"
      ],
      "metadata": {
        "id": "otEZLxVnuOhK"
      }
    },
    {
      "cell_type": "markdown",
      "source": [
        "Below is the same plot of the iris dataset but only with the iris-sertosa and the iris-versicolor involved."
      ],
      "metadata": {
        "id": "PMmz1ShLV6Hn"
      }
    },
    {
      "cell_type": "code",
      "source": [
        "plt.figure(figsize=(8,8))\n",
        "plt.scatter(X_train2[:,0], X_train2[:,1], label='Iris-setosa')\n",
        "plt.scatter(y_train2[:,0], y_train2[:,1], label='Iris-versicolor')\n",
        "plt.ylabel(\"Sepal length\")\n",
        "plt.xlabel(\"Sepal width\")\n",
        "plt.legend()\n",
        "plt.grid()\n",
        "plt.show()"
      ],
      "metadata": {
        "id": "TpxwIwt2k4aU"
      },
      "execution_count": null,
      "outputs": []
    },
    {
      "cell_type": "markdown",
      "source": [
        "#### Models\n",
        "\n",
        "Here is the class for the multilayer perceptron classifiers where the bases of the models and their training is contained. Their are 5 functions in total, the first are the neurons given a default value of 1 which can be changed when calling the class function.\n",
        "\n",
        "Followed by three functions that each have a set number of layers respectively, followed by the training function that also plots the progress of the model through each iteration/epoch."
      ],
      "metadata": {
        "id": "k-ywE8c-uTLa"
      }
    },
    {
      "cell_type": "code",
      "source": [
        "class ModelsClass():\n",
        "  def __init__(self, unit1 = 1,unit2 = 1,unit3 = 1,unit4 = 1,unit5 = 1):\n",
        "    self.unit1 = unit1\n",
        "    self.unit2 = unit2\n",
        "    self.unit3 = unit3\n",
        "    self.unit4 = unit4\n",
        "    self.unit5 = unit5\n",
        "\n",
        "  def model_3layer(self,lr,activation1,activation2,activation3):\n",
        "   self.model = tf.keras.Sequential()\n",
        "   self.model.add(tf.keras.layers.Dense(self.unit1, input_dim=2, activation = activation1))\n",
        "   self.model.add(tf.keras.layers.Dense(self.unit2, activation = activation2))\n",
        "   self.model.add(tf.keras.layers.Dense(self.unit3, activation = activation3))\n",
        "   self.model.compile(optimizer=SGD(learning_rate=lr),\n",
        "              loss='binary_crossentropy',\n",
        "              metrics = ['accuracy'])\n",
        "   return self.model.summary()\n",
        "\n",
        "  def model_4layer(self,lr,activation1,activation2,activation3,activation4):\n",
        "   self.model = tf.keras.Sequential()\n",
        "   self.model.add(tf.keras.layers.Dense(self.unit1, input_dim=2, activation = activation1))\n",
        "   self.model.add(tf.keras.layers.Dense(self.unit2, activation = activation2))\n",
        "   self.model.add(tf.keras.layers.Dense(self.unit3, activation = activation3))\n",
        "   self.model.add(tf.keras.layers.Dense(self.unit4, activation = activation4))\n",
        "   self.model.compile(optimizer=SGD(learning_rate=lr),\n",
        "              loss='binary_crossentropy',\n",
        "              metrics = ['accuracy'])\n",
        "   return self.model.summary()\n",
        "\n",
        "  def model_5layer(self,lr,activation1,activation2,activation3,activation4,activation5):\n",
        "   self.model = tf.keras.Sequential()\n",
        "   self.model.add(tf.keras.layers.Dense(self.unit1, input_dim=2, activation = activation1))\n",
        "   self.model.add(tf.keras.layers.Dense(self.unit2, activation = activation2))\n",
        "   self.model.add(tf.keras.layers.Dense(self.unit3, activation = activation3))\n",
        "   self.model.add(tf.keras.layers.Dense(self.unit4, activation = activation4))\n",
        "   self.model.add(tf.keras.layers.Dense(self.unit5, activation = activation5))\n",
        "   self.model.compile(optimizer=SGD(learning_rate=lr),\n",
        "              loss='binary_crossentropy',\n",
        "              metrics = ['accuracy'])\n",
        "   return self.model.summary()\n",
        "\n",
        "  def history(self):\n",
        "    history = self.model.fit(X_train, y_train, epochs=100, batch_size=5)\n",
        "    plt.figure(figsize=(5,5))\n",
        "    plt.title('Loss Curve')\n",
        "\n",
        "    plt.subplot()\n",
        "    plt.plot(history.history['loss'], color = 'blue')\n",
        "    plt.ylabel('loss')\n",
        "    plt.xlabel('epoch')\n",
        "    \n",
        "    plt.subplot()\n",
        "    plt.plot(history.history['accuracy'], color = 'green')\n",
        "    plt.ylabel('accuracy')\n",
        "    plt.xlabel('epoch')\n",
        "\n",
        "    plt.show()"
      ],
      "metadata": {
        "id": "jHe28PJJv07i"
      },
      "execution_count": null,
      "outputs": []
    },
    {
      "cell_type": "markdown",
      "source": [
        "## Initializing and Training models\n",
        "\n",
        "Below are nine different models build and trained with the class above.\n",
        "\n"
      ],
      "metadata": {
        "id": "9KbzQUNm8P2l"
      }
    },
    {
      "cell_type": "code",
      "source": [
        "models = ModelsClass()"
      ],
      "metadata": {
        "id": "QPxLSKr0Ap7W"
      },
      "execution_count": null,
      "outputs": []
    },
    {
      "cell_type": "markdown",
      "source": [
        "### Model 1"
      ],
      "metadata": {
        "id": "Xl2D2j1R8VzE"
      }
    },
    {
      "cell_type": "code",
      "source": [
        "models.__init__(3,10,1) # Parameters are the Neurons\n",
        "models.model_3layer(0.05,relu,relu,sigmoid) "
      ],
      "metadata": {
        "id": "ViySu_sTyjws"
      },
      "execution_count": null,
      "outputs": []
    },
    {
      "cell_type": "code",
      "source": [
        "models.history()"
      ],
      "metadata": {
        "id": "fT0BvxuJ6Gdd"
      },
      "execution_count": null,
      "outputs": []
    },
    {
      "cell_type": "markdown",
      "source": [
        "### Model 2"
      ],
      "metadata": {
        "id": "Oao0bdvP8tEd"
      }
    },
    {
      "cell_type": "code",
      "source": [
        "models.__init__(5,10,1) # Parameters are the Neurons\n",
        "models.model_3layer(0.009,relu,relu,sigmoid)"
      ],
      "metadata": {
        "id": "zXKJSacClub3"
      },
      "execution_count": null,
      "outputs": []
    },
    {
      "cell_type": "code",
      "source": [
        "models.history()"
      ],
      "metadata": {
        "id": "8jOvFK6A8yDB"
      },
      "execution_count": null,
      "outputs": []
    },
    {
      "cell_type": "markdown",
      "source": [
        "### Model 3"
      ],
      "metadata": {
        "id": "8kvKw87G85m9"
      }
    },
    {
      "cell_type": "code",
      "source": [
        "models.__init__(5,2,1) # Parameters are the Neurons\n",
        "models.model_3layer(0.01,relu,sigmoid,sigmoid)"
      ],
      "metadata": {
        "id": "1gJxS37v8zhO"
      },
      "execution_count": null,
      "outputs": []
    },
    {
      "cell_type": "code",
      "source": [
        "models.history()"
      ],
      "metadata": {
        "id": "0fBxdnf08-Uo"
      },
      "execution_count": null,
      "outputs": []
    },
    {
      "cell_type": "markdown",
      "source": [
        "### Model 4"
      ],
      "metadata": {
        "id": "FYX-Oele9DtF"
      }
    },
    {
      "cell_type": "code",
      "source": [
        "models.__init__(5,16,11,1) # Parameters are the Neurons\n",
        "models.model_4layer(0.03,relu,relu,tanh,sigmoid)"
      ],
      "metadata": {
        "id": "lhp-424f9AAn"
      },
      "execution_count": null,
      "outputs": []
    },
    {
      "cell_type": "code",
      "source": [
        "models.history()"
      ],
      "metadata": {
        "id": "Hg_0MMgj_DYB"
      },
      "execution_count": null,
      "outputs": []
    },
    {
      "cell_type": "markdown",
      "source": [
        "### Model 5"
      ],
      "metadata": {
        "id": "hv3ucdKuCt1K"
      }
    },
    {
      "cell_type": "code",
      "source": [
        "models.__init__(5,13,18,1) # Parameters are the Neurons\n",
        "models.model_4layer(0.9,relu,relu,tanh,sigmoid)"
      ],
      "metadata": {
        "id": "hcALdAfEBa6x"
      },
      "execution_count": null,
      "outputs": []
    },
    {
      "cell_type": "code",
      "source": [
        "models.history()"
      ],
      "metadata": {
        "id": "OUItdLfBCx_4"
      },
      "execution_count": null,
      "outputs": []
    },
    {
      "cell_type": "markdown",
      "source": [
        "### Model 6"
      ],
      "metadata": {
        "id": "cR-zf41tD1tc"
      }
    },
    {
      "cell_type": "code",
      "source": [
        "models.__init__(2,13,11,1) # Parameters are the Neurons\n",
        "models.model_4layer(0.05,relu,relu,tanh,sigmoid)"
      ],
      "metadata": {
        "id": "zyQFrhklECi3"
      },
      "execution_count": null,
      "outputs": []
    },
    {
      "cell_type": "code",
      "source": [
        "models.history()"
      ],
      "metadata": {
        "id": "2AqexTkkEdCz"
      },
      "execution_count": null,
      "outputs": []
    },
    {
      "cell_type": "markdown",
      "source": [
        "### Model 7"
      ],
      "metadata": {
        "id": "Df-8N6-yF7bn"
      }
    },
    {
      "cell_type": "code",
      "source": [
        "models.__init__(2,13,9,12,1) # Parameters are the Neurons\n",
        "models.model_5layer(0.5,relu,sigmoid,relu,sigmoid,sigmoid)"
      ],
      "metadata": {
        "id": "Zi2LiGyiEeXr"
      },
      "execution_count": null,
      "outputs": []
    },
    {
      "cell_type": "code",
      "source": [
        "models.history() # Parameters are the Neurons"
      ],
      "metadata": {
        "id": "W5Zkp3onFupw"
      },
      "execution_count": null,
      "outputs": []
    },
    {
      "cell_type": "markdown",
      "source": [
        "### Model 8"
      ],
      "metadata": {
        "id": "MSsJYtsIF-pj"
      }
    },
    {
      "cell_type": "code",
      "source": [
        "models.__init__(2,10,5,6,1) # Parameters are the Neurons\n",
        "models.model_5layer(0.3,relu,tanh,relu,tanh,sigmoid)"
      ],
      "metadata": {
        "id": "JHshY_4FFwyS"
      },
      "execution_count": null,
      "outputs": []
    },
    {
      "cell_type": "code",
      "source": [
        "models.history() # Parameters are the Neurons"
      ],
      "metadata": {
        "id": "7CKAD5PMGI8y"
      },
      "execution_count": null,
      "outputs": []
    },
    {
      "cell_type": "markdown",
      "source": [
        "### Model 9"
      ],
      "metadata": {
        "id": "VvtrRPMzGWj3"
      }
    },
    {
      "cell_type": "code",
      "source": [
        "models.__init__(2,16,10,12,1) # Parameters are the Neurons\n",
        "models.model_5layer(0.7,sigmoid,tanh,tanh,sigmoid,sigmoid)"
      ],
      "metadata": {
        "id": "4HHzoWP_GKgB"
      },
      "execution_count": null,
      "outputs": []
    },
    {
      "cell_type": "code",
      "source": [
        "models.history()"
      ],
      "metadata": {
        "id": "bVdjUA06GTpQ"
      },
      "execution_count": null,
      "outputs": []
    },
    {
      "cell_type": "markdown",
      "source": [
        "## Analysis of Models\n",
        "\n",
        "As can be seen in the figures of all 9 models changes between the variables either being, the neurons, the activation function, learning rate or the number of perceptrons can result in big changes to the results in the models accuracy after a set number of epochs.\n",
        "\n",
        "Some models are able to hit 100 percent accuracy after only a few epochs while some models seem to max out at  near 50 percent accuracy. \n",
        "\n",
        "Since some of the models that only had 3 layers was able to reach 100 percent accuracy, while another model with 5 layer got stuck within the 50 percent limit, it is quite clear that the higher number of layers when it comes to classifiers, does not always translate to higher accuracy and better performance. But instead is also dependent on the other variables mentioned above."
      ],
      "metadata": {
        "id": "PPqWVzl2HIqc"
      }
    },
    {
      "cell_type": "code",
      "source": [
        ""
      ],
      "metadata": {
        "id": "VeQPvhi4HNWv"
      },
      "execution_count": null,
      "outputs": []
    }
  ]
}