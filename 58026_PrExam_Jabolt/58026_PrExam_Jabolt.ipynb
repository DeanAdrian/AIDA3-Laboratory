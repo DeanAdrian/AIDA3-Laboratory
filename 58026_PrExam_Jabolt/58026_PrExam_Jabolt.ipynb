{
  "nbformat": 4,
  "nbformat_minor": 0,
  "metadata": {
    "colab": {
      "name": "58026_PrExam_Jabolt.ipynb",
      "provenance": [],
      "authorship_tag": "ABX9TyPCT1di2xmd35f3xNyqJIkv",
      "include_colab_link": true
    },
    "kernelspec": {
      "name": "python3",
      "display_name": "Python 3"
    },
    "language_info": {
      "name": "python"
    }
  },
  "cells": [
    {
      "cell_type": "markdown",
      "metadata": {
        "id": "view-in-github",
        "colab_type": "text"
      },
      "source": [
        "<a href=\"https://colab.research.google.com/github/DeanAdrian/AIDA3-Laboratory/blob/main/58026_PrExam_Jabolt/58026_PrExam_Jabolt.ipynb\" target=\"_parent\"><img src=\"https://colab.research.google.com/assets/colab-badge.svg\" alt=\"Open In Colab\"/></a>"
      ]
    },
    {
      "cell_type": "code",
      "execution_count": 1,
      "metadata": {
        "id": "BfuD3OzS03D0"
      },
      "outputs": [],
      "source": [
        "import numpy as np"
      ]
    },
    {
      "cell_type": "markdown",
      "source": [
        "## 1. Perceptron Algorithm"
      ],
      "metadata": {
        "id": "43mw94uKAIfv"
      }
    },
    {
      "cell_type": "code",
      "source": [
        "def activation(y):\n",
        "  if y > 0:\n",
        "    y = 1\n",
        "  elif y <= 0:\n",
        "    y = 0\n",
        "  return y\n",
        "\n",
        "def perceptronAlgo(x):\n",
        "  W = np.array([-1, -1])\n",
        "  b = 1\n",
        "  y = np.dot(W, x) + b\n",
        "  y = activation(y)\n",
        "  return y"
      ],
      "metadata": {
        "id": "JGOtX8IN07Rr"
      },
      "execution_count": 2,
      "outputs": []
    },
    {
      "cell_type": "markdown",
      "source": [
        "The functions above contain the activation function as well as the perceptron algorithm function. The activation function will return either a 1 or 0 value for y depending on its value after being computed for in the perceptron algorithm function."
      ],
      "metadata": {
        "id": "YpizSdmygVFU"
      }
    },
    {
      "cell_type": "markdown",
      "source": [
        "### Output"
      ],
      "metadata": {
        "id": "6b4uebmhAKvp"
      }
    },
    {
      "cell_type": "code",
      "source": [
        "input1 = np.array([0, 0])\n",
        "input2 = np.array([0, 1])\n",
        "input3 = np.array([1, 0])\n",
        "input4 = np.array([1, 1])"
      ],
      "metadata": {
        "id": "2F2IeKl-FPBy"
      },
      "execution_count": 3,
      "outputs": []
    },
    {
      "cell_type": "code",
      "source": [
        "print(\"NOR 0 0 =\", perceptronAlgo(input1))"
      ],
      "metadata": {
        "colab": {
          "base_uri": "https://localhost:8080/"
        },
        "id": "uTsOsiX61Jj0",
        "outputId": "c94ac31d-c588-4dc3-e21e-46444c6739b3"
      },
      "execution_count": 4,
      "outputs": [
        {
          "output_type": "stream",
          "name": "stdout",
          "text": [
            "NOR 0 0 = 1\n"
          ]
        }
      ]
    },
    {
      "cell_type": "code",
      "source": [
        "print(\"NOR 0 1 =\", perceptronAlgo(input2))"
      ],
      "metadata": {
        "colab": {
          "base_uri": "https://localhost:8080/"
        },
        "id": "YuHMj_qeAP9W",
        "outputId": "6be138c7-f70d-4228-e3fd-389d3afc9e50"
      },
      "execution_count": 5,
      "outputs": [
        {
          "output_type": "stream",
          "name": "stdout",
          "text": [
            "NOR 0 1 = 0\n"
          ]
        }
      ]
    },
    {
      "cell_type": "code",
      "source": [
        "print(\"NOR 1 0 =\", perceptronAlgo(input3))"
      ],
      "metadata": {
        "colab": {
          "base_uri": "https://localhost:8080/"
        },
        "id": "lx2IFaynAQfq",
        "outputId": "5c2746c7-aa8a-4151-c835-6b987d6ad9dc"
      },
      "execution_count": 6,
      "outputs": [
        {
          "output_type": "stream",
          "name": "stdout",
          "text": [
            "NOR 1 0 = 0\n"
          ]
        }
      ]
    },
    {
      "cell_type": "code",
      "source": [
        "print(\"NOR 1 1 =\", perceptronAlgo(input4))"
      ],
      "metadata": {
        "colab": {
          "base_uri": "https://localhost:8080/"
        },
        "id": "wAJ85VcPAQ3w",
        "outputId": "5aef6f72-1de2-4122-a826-911c4fd54a30"
      },
      "execution_count": 7,
      "outputs": [
        {
          "output_type": "stream",
          "name": "stdout",
          "text": [
            "NOR 1 1 = 0\n"
          ]
        }
      ]
    },
    {
      "cell_type": "markdown",
      "source": [
        "## 2. Declaration of the Features and Targets of the Model"
      ],
      "metadata": {
        "id": "Ta-aGXnRBe_C"
      }
    },
    {
      "cell_type": "code",
      "source": [
        "w1 = np.array([[1, -1],\n",
        "               [-1, 1]])\n",
        "w2 = np.array([[1, 2],\n",
        "               [2, 1]])\n",
        "w3 = np.array([-1, 1])\n",
        "x = np.array([1, 0])"
      ],
      "metadata": {
        "id": "7_tCyIOxB4DO"
      },
      "execution_count": 8,
      "outputs": []
    },
    {
      "cell_type": "markdown",
      "source": [
        "For the above requirement, the needed features and weights were declared as array variables to be called by used as inputs for the functions in the later part of this notebook."
      ],
      "metadata": {
        "id": "Rf_rVVzQhKj4"
      }
    },
    {
      "cell_type": "markdown",
      "source": [
        "### Output"
      ],
      "metadata": {
        "id": "j6UopR--Cr1H"
      }
    },
    {
      "cell_type": "code",
      "source": [
        "w1"
      ],
      "metadata": {
        "colab": {
          "base_uri": "https://localhost:8080/"
        },
        "id": "1nbwGmBtCtZP",
        "outputId": "3c648467-e760-4a11-8d56-174e097ef977"
      },
      "execution_count": 9,
      "outputs": [
        {
          "output_type": "execute_result",
          "data": {
            "text/plain": [
              "array([[ 1, -1],\n",
              "       [-1,  1]])"
            ]
          },
          "metadata": {},
          "execution_count": 9
        }
      ]
    },
    {
      "cell_type": "code",
      "source": [
        "w2"
      ],
      "metadata": {
        "colab": {
          "base_uri": "https://localhost:8080/"
        },
        "id": "g0fTNBsWC1E3",
        "outputId": "c5714480-0216-4a36-b9bc-6fdcce8a06f7"
      },
      "execution_count": 10,
      "outputs": [
        {
          "output_type": "execute_result",
          "data": {
            "text/plain": [
              "array([[1, 2],\n",
              "       [2, 1]])"
            ]
          },
          "metadata": {},
          "execution_count": 10
        }
      ]
    },
    {
      "cell_type": "code",
      "source": [
        "w3"
      ],
      "metadata": {
        "colab": {
          "base_uri": "https://localhost:8080/"
        },
        "id": "_0JEBHPLC2Qt",
        "outputId": "5481b79d-e564-48a6-bbfd-fa434571b879"
      },
      "execution_count": 11,
      "outputs": [
        {
          "output_type": "execute_result",
          "data": {
            "text/plain": [
              "array([-1,  1])"
            ]
          },
          "metadata": {},
          "execution_count": 11
        }
      ]
    },
    {
      "cell_type": "code",
      "source": [
        "x"
      ],
      "metadata": {
        "colab": {
          "base_uri": "https://localhost:8080/"
        },
        "id": "rMMmRqO0C3TO",
        "outputId": "280bf3e8-c254-427b-df49-15af85d9799f"
      },
      "execution_count": 12,
      "outputs": [
        {
          "output_type": "execute_result",
          "data": {
            "text/plain": [
              "array([1, 0])"
            ]
          },
          "metadata": {},
          "execution_count": 12
        }
      ]
    },
    {
      "cell_type": "markdown",
      "source": [
        "## 3. Forward Propagation"
      ],
      "metadata": {
        "id": "OoT63o9VB5c2"
      }
    },
    {
      "cell_type": "code",
      "source": [
        "def forwardProp(x, w1, w2, w3): \n",
        "  z1 = np.dot(x, w1)\n",
        "  a1 = np.tanh(z1)\n",
        "  z2 = np.dot(a1, w2)\n",
        "  a2 = np.tanh(z2)\n",
        "  z3 = np.dot(a2, w3)\n",
        "  a3 = np.tanh(z3)\n",
        "  return a1, a2, a3"
      ],
      "metadata": {
        "id": "YcoSry790-Ja"
      },
      "execution_count": 13,
      "outputs": []
    },
    {
      "cell_type": "markdown",
      "source": [
        "The forward propagation function uses all of the features and weights created in the number above as its inputs. The function alternates between the use of np.dot to get the dot product of two inputs and np.tanh which is the activation function. The function then outputs three variables created in the function as a tuple, and will be used again in the next function."
      ],
      "metadata": {
        "id": "NaJDcyxWham7"
      }
    },
    {
      "cell_type": "markdown",
      "source": [
        "### Output"
      ],
      "metadata": {
        "id": "EcoR_4FzBqWw"
      }
    },
    {
      "cell_type": "code",
      "source": [
        "forwardProp(x, w1, w2, w3)[2]"
      ],
      "metadata": {
        "colab": {
          "base_uri": "https://localhost:8080/"
        },
        "id": "VcBbu3Ef0_Tf",
        "outputId": "073ac9bd-6aa0-444e-c339-fbf759daccbc"
      },
      "execution_count": 14,
      "outputs": [
        {
          "output_type": "execute_result",
          "data": {
            "text/plain": [
              "0.8575549394724464"
            ]
          },
          "metadata": {},
          "execution_count": 14
        }
      ]
    },
    {
      "cell_type": "markdown",
      "source": [
        "## 4. Back Propagation"
      ],
      "metadata": {
        "id": "vn6gIldSB8JG"
      }
    },
    {
      "cell_type": "code",
      "source": [
        "def backwardProp(x, w1, w2, w3):\n",
        "  y   = forwardProp(x, w1, w2, w3)[0]\n",
        "  y1  = forwardProp(x, w1, w2, w3)[1]\n",
        "  y2  = forwardProp(x, w1, w2, w3)[2]\n",
        "  y3  = np.tanh(y2)\n",
        "  dn  = 2.86\n",
        "  err = dn - y3\n",
        "  lr  = 0.25\n",
        "\n",
        "  dv = (1 - y3) * (1 + y3)\n",
        "  delta = err * dv\n",
        "  W_1 = w3 - (lr * delta) * y2\n",
        "\n",
        "  dv1 = (1 - y2) * (1 + y2)\n",
        "  delta1 = (w2 * dv1) * delta\n",
        "  W_2 = w2 - (lr * delta) * delta1\n",
        "\n",
        "  dv2 = (1 - y1) * (1 + y1)\n",
        "  delta2 = (w1 * dv2) * delta1\n",
        "  W_3 = w1 - (lr * delta2) * y\n",
        "\n",
        "  return W_1, W_2, W_3"
      ],
      "metadata": {
        "id": "raM2EIIJ1AP5"
      },
      "execution_count": 15,
      "outputs": []
    },
    {
      "cell_type": "markdown",
      "source": [
        "Above is the backward propagation function, it uses the same inputs as the forward propagation function. In the first part of the function the outputs of the forward propagation function are set as individual variables to be used in the computation part of the code. The values of the other variables are taken from the given problem for this activity.\n",
        "\n",
        "The way the function calculates all of the new wights in similar steps. The back propagation function also returns the three variable as a tuple."
      ],
      "metadata": {
        "id": "gkz4CdOJiChL"
      }
    },
    {
      "cell_type": "markdown",
      "source": [
        "### Output"
      ],
      "metadata": {
        "id": "AvnKUPynCBRZ"
      }
    },
    {
      "cell_type": "code",
      "source": [
        "backwardProp(x, w1, w2, w3)[2]"
      ],
      "metadata": {
        "colab": {
          "base_uri": "https://localhost:8080/"
        },
        "id": "hqVKbzDA1BsN",
        "outputId": "a20890bf-6a74-4b9a-d6a2-9d6486120f8f"
      },
      "execution_count": 16,
      "outputs": [
        {
          "output_type": "execute_result",
          "data": {
            "text/plain": [
              "array([[ 0.96685425, -1.0662915 ],\n",
              "       [-0.9337085 ,  1.03314575]])"
            ]
          },
          "metadata": {},
          "execution_count": 16
        }
      ]
    },
    {
      "cell_type": "markdown",
      "source": [
        "## 5.  Updated Weights"
      ],
      "metadata": {
        "id": "4MZMc-2IB-p1"
      }
    },
    {
      "cell_type": "code",
      "source": [
        "def updatedWeights():\n",
        "  for i in range(0, 3):\n",
        "    print(f\"Updated Weight {i+1}:\",backwardProp(x, w1, w2, w3)[i], \"\\n\")"
      ],
      "metadata": {
        "id": "kz0n1ask1Cun"
      },
      "execution_count": 17,
      "outputs": []
    },
    {
      "cell_type": "markdown",
      "source": [
        "The updated weights function simply uses the backward propagation function, and outputs each index in the tuple separately."
      ],
      "metadata": {
        "id": "EQjZZozDj3tW"
      }
    },
    {
      "cell_type": "markdown",
      "source": [
        "### Output"
      ],
      "metadata": {
        "id": "v1u98mNH7ZE3"
      }
    },
    {
      "cell_type": "code",
      "source": [
        "updatedWeights()"
      ],
      "metadata": {
        "colab": {
          "base_uri": "https://localhost:8080/"
        },
        "id": "oh6VujxrJ1Pj",
        "outputId": "08f7b960-4ea9-44f3-cd55-1b4259db1e96"
      },
      "execution_count": 18,
      "outputs": [
        {
          "output_type": "stream",
          "name": "stdout",
          "text": [
            "Updated Weight 1: [-1.23995798  0.76004202] \n",
            "\n",
            "Updated Weight 2: [[0.91713034 1.83426069]\n",
            " [1.83426069 0.91713034]] \n",
            "\n",
            "Updated Weight 3: [[ 0.96685425 -1.0662915 ]\n",
            " [-0.9337085   1.03314575]] \n",
            "\n"
          ]
        }
      ]
    }
  ]
}