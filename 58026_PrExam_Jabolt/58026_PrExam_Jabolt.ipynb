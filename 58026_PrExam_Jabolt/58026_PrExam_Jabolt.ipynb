{
  "nbformat": 4,
  "nbformat_minor": 0,
  "metadata": {
    "colab": {
      "name": "58026_PrExam_Jabolt.ipynb",
      "provenance": [],
      "authorship_tag": "ABX9TyORoMgHMTUsPRwwugyGTCzD",
      "include_colab_link": true
    },
    "kernelspec": {
      "name": "python3",
      "display_name": "Python 3"
    },
    "language_info": {
      "name": "python"
    }
  },
  "cells": [
    {
      "cell_type": "markdown",
      "metadata": {
        "id": "view-in-github",
        "colab_type": "text"
      },
      "source": [
        "<a href=\"https://colab.research.google.com/github/DeanAdrian/AIDA3-Laboratory/blob/main/58026_PrExam_Jabolt/58026_PrExam_Jabolt.ipynb\" target=\"_parent\"><img src=\"https://colab.research.google.com/assets/colab-badge.svg\" alt=\"Open In Colab\"/></a>"
      ]
    },
    {
      "cell_type": "code",
      "execution_count": null,
      "metadata": {
        "id": "BfuD3OzS03D0"
      },
      "outputs": [],
      "source": [
        "import numpy as np"
      ]
    },
    {
      "cell_type": "markdown",
      "source": [
        "## 1. Perceptron Algorithm"
      ],
      "metadata": {
        "id": "43mw94uKAIfv"
      }
    },
    {
      "cell_type": "code",
      "source": [
        "def perceptronAlgo(input1, input2):\n",
        "  if(input1 == 0) and (input1 == 0):\n",
        "    return 1\n",
        "  elif(input1 == 0) and (input2 == 1):\n",
        "    return 0\n",
        "  elif(input1 == 1) and (input2 == 0):\n",
        "    return 0\n",
        "  elif(input1 == 1) and (input2 == 1):\n",
        "    return 0\n",
        "  else:\n",
        "    return \"Invalid\""
      ],
      "metadata": {
        "id": "JGOtX8IN07Rr"
      },
      "execution_count": 1,
      "outputs": []
    },
    {
      "cell_type": "markdown",
      "source": [
        "The perceptronAlgo function above contains multiple if else statements to check the values of the two inputs. And depending on the combination of those inputs will return a value of either 1 or 0. An additional else statement is added as a catch all, in case an input was made that did not fit any of the combination."
      ],
      "metadata": {
        "id": "YpizSdmygVFU"
      }
    },
    {
      "cell_type": "markdown",
      "source": [
        "### Output"
      ],
      "metadata": {
        "id": "6b4uebmhAKvp"
      }
    },
    {
      "cell_type": "code",
      "source": [
        "print(\"NOR 0 0 =\", perceptronAlgo(0,0))"
      ],
      "metadata": {
        "colab": {
          "base_uri": "https://localhost:8080/"
        },
        "id": "uTsOsiX61Jj0",
        "outputId": "5b08909b-ba60-47f7-9c51-23849f59e086"
      },
      "execution_count": null,
      "outputs": [
        {
          "output_type": "stream",
          "name": "stdout",
          "text": [
            "NOR 0 0 = 1\n"
          ]
        }
      ]
    },
    {
      "cell_type": "code",
      "source": [
        "print(\"NOR 0 1 =\", perceptronAlgo(0,1))"
      ],
      "metadata": {
        "colab": {
          "base_uri": "https://localhost:8080/"
        },
        "id": "YuHMj_qeAP9W",
        "outputId": "6b8d4a3e-6bc6-44b3-a943-99c8be8b17a4"
      },
      "execution_count": null,
      "outputs": [
        {
          "output_type": "stream",
          "name": "stdout",
          "text": [
            "NOR 0 1 = 1\n"
          ]
        }
      ]
    },
    {
      "cell_type": "code",
      "source": [
        "print(\"NOR 1 0 =\", perceptronAlgo(1,0))"
      ],
      "metadata": {
        "colab": {
          "base_uri": "https://localhost:8080/"
        },
        "id": "lx2IFaynAQfq",
        "outputId": "5d075237-fd10-4102-f91f-aa93fb01396f"
      },
      "execution_count": null,
      "outputs": [
        {
          "output_type": "stream",
          "name": "stdout",
          "text": [
            "NOR 1 0 = 0\n"
          ]
        }
      ]
    },
    {
      "cell_type": "code",
      "source": [
        "print(\"NOR 1 1 =\", perceptronAlgo(1,1))"
      ],
      "metadata": {
        "colab": {
          "base_uri": "https://localhost:8080/"
        },
        "id": "wAJ85VcPAQ3w",
        "outputId": "c03e78f1-88a0-4333-a4da-891a80ca21cb"
      },
      "execution_count": null,
      "outputs": [
        {
          "output_type": "stream",
          "name": "stdout",
          "text": [
            "NOR 1 1 = 0\n"
          ]
        }
      ]
    },
    {
      "cell_type": "markdown",
      "source": [
        "## 2. Declaration of the Features and Targets of the Model"
      ],
      "metadata": {
        "id": "Ta-aGXnRBe_C"
      }
    },
    {
      "cell_type": "code",
      "source": [
        "w1 = np.array([[1, -1],\n",
        "               [-1, 1]])\n",
        "w2 = np.array([[1, 2],\n",
        "               [2, 1]])\n",
        "w3 = np.array([-1, 1])\n",
        "x = np.array([1, 0])"
      ],
      "metadata": {
        "id": "7_tCyIOxB4DO"
      },
      "execution_count": null,
      "outputs": []
    },
    {
      "cell_type": "markdown",
      "source": [
        "For the above requirement, the needed features and weights were declared as array variables to be called by used as inputs for the functions in the later part of this notebook."
      ],
      "metadata": {
        "id": "Rf_rVVzQhKj4"
      }
    },
    {
      "cell_type": "markdown",
      "source": [
        "### Output"
      ],
      "metadata": {
        "id": "j6UopR--Cr1H"
      }
    },
    {
      "cell_type": "code",
      "source": [
        "w1"
      ],
      "metadata": {
        "colab": {
          "base_uri": "https://localhost:8080/"
        },
        "id": "1nbwGmBtCtZP",
        "outputId": "b19f2169-29a1-4e23-9f7f-8b572de184ed"
      },
      "execution_count": null,
      "outputs": [
        {
          "output_type": "execute_result",
          "data": {
            "text/plain": [
              "array([[ 1, -1],\n",
              "       [-1,  1]])"
            ]
          },
          "metadata": {},
          "execution_count": 8
        }
      ]
    },
    {
      "cell_type": "code",
      "source": [
        "w2"
      ],
      "metadata": {
        "colab": {
          "base_uri": "https://localhost:8080/"
        },
        "id": "g0fTNBsWC1E3",
        "outputId": "6469f283-722d-467d-8a6c-1b555e4776c1"
      },
      "execution_count": null,
      "outputs": [
        {
          "output_type": "execute_result",
          "data": {
            "text/plain": [
              "array([[1, 2],\n",
              "       [2, 1]])"
            ]
          },
          "metadata": {},
          "execution_count": 9
        }
      ]
    },
    {
      "cell_type": "code",
      "source": [
        "w3"
      ],
      "metadata": {
        "colab": {
          "base_uri": "https://localhost:8080/"
        },
        "id": "_0JEBHPLC2Qt",
        "outputId": "ccd507ff-4845-43cb-e6fc-67cf8c77b38f"
      },
      "execution_count": null,
      "outputs": [
        {
          "output_type": "execute_result",
          "data": {
            "text/plain": [
              "array([-1,  1])"
            ]
          },
          "metadata": {},
          "execution_count": 10
        }
      ]
    },
    {
      "cell_type": "code",
      "source": [
        "x"
      ],
      "metadata": {
        "colab": {
          "base_uri": "https://localhost:8080/"
        },
        "id": "rMMmRqO0C3TO",
        "outputId": "03caf3f3-0ac7-4e60-9a71-7d4087e1cec8"
      },
      "execution_count": null,
      "outputs": [
        {
          "output_type": "execute_result",
          "data": {
            "text/plain": [
              "array([1, 0])"
            ]
          },
          "metadata": {},
          "execution_count": 11
        }
      ]
    },
    {
      "cell_type": "markdown",
      "source": [
        "## 3. Forward Propagation"
      ],
      "metadata": {
        "id": "OoT63o9VB5c2"
      }
    },
    {
      "cell_type": "code",
      "source": [
        "def forwardProp(x, w1, w2, w3): \n",
        "  z1 = np.dot(x, w1)\n",
        "  a1 = np.tanh(z1)\n",
        "  z2 = np.dot(a1, w2)\n",
        "  a2 = np.tanh(z2)\n",
        "  z3 = np.dot(a2, w3)\n",
        "  a3 = np.tanh(z3)\n",
        "  return a1, a2, a3"
      ],
      "metadata": {
        "id": "YcoSry790-Ja"
      },
      "execution_count": null,
      "outputs": []
    },
    {
      "cell_type": "markdown",
      "source": [
        "The forward propagation function uses all of the features and weights created in the number above as its inputs. The function alternates between the use of np.dot to get the dot product of two inputs and np.tanh which is the activation function. The function then outputs three variables created in the function as a tuple, and will be used again in the next function."
      ],
      "metadata": {
        "id": "NaJDcyxWham7"
      }
    },
    {
      "cell_type": "markdown",
      "source": [
        "### Output"
      ],
      "metadata": {
        "id": "EcoR_4FzBqWw"
      }
    },
    {
      "cell_type": "code",
      "source": [
        "forwardProp(x, w1, w2, w3)[2]"
      ],
      "metadata": {
        "colab": {
          "base_uri": "https://localhost:8080/"
        },
        "id": "VcBbu3Ef0_Tf",
        "outputId": "ef6c4861-8965-47e4-b502-99c861c42d4b"
      },
      "execution_count": null,
      "outputs": [
        {
          "output_type": "execute_result",
          "data": {
            "text/plain": [
              "0.8575549394724464"
            ]
          },
          "metadata": {},
          "execution_count": 13
        }
      ]
    },
    {
      "cell_type": "markdown",
      "source": [
        "## 4. Back Propagation"
      ],
      "metadata": {
        "id": "vn6gIldSB8JG"
      }
    },
    {
      "cell_type": "code",
      "source": [
        "def backwardProp(x, w1, w2, w3):\n",
        "  y   = forwardProp(x, w1, w2, w3)[0]\n",
        "  y1  = forwardProp(x, w1, w2, w3)[1]\n",
        "  y2  = forwardProp(x, w1, w2, w3)[2]\n",
        "  y3  = np.tanh(y2)\n",
        "  dn  = 2.86\n",
        "  err = dn - y3\n",
        "  lr  = 0.25\n",
        "\n",
        "  dv = (1 - y3) * (1 + y3)\n",
        "  delta = err * dv\n",
        "  W_1 = w3 - (lr * delta) * y2\n",
        "\n",
        "  dv1 = (1 - y2) * (1 + y2)\n",
        "  delta1 = (w2 * dv1) * delta\n",
        "  W_2 = w2 - (lr * delta) * delta1\n",
        "\n",
        "  dv2 = (1 - y1) * (1 + y1)\n",
        "  delta2 = (w1 * dv2) * delta1\n",
        "  W_3 = w1 - (lr * delta2) * y\n",
        "\n",
        "  return W_1, W_2, W_3"
      ],
      "metadata": {
        "id": "raM2EIIJ1AP5"
      },
      "execution_count": null,
      "outputs": []
    },
    {
      "cell_type": "markdown",
      "source": [
        "Above is the backward propagation function, it uses the same inputs as the forward propagation function. In the first part of the function the outputs of the forward propagation function are set as individual variables to be used in the computation part of the code. The values of the other variables are taken from the given problem for this activity.\n",
        "\n",
        "The way the function calculates all of the new wights in similar steps. The back propagation function also returns the three variable as a tuple."
      ],
      "metadata": {
        "id": "gkz4CdOJiChL"
      }
    },
    {
      "cell_type": "markdown",
      "source": [
        "### Output"
      ],
      "metadata": {
        "id": "AvnKUPynCBRZ"
      }
    },
    {
      "cell_type": "code",
      "source": [
        "backwardProp(x, w1, w2, w3)[2]"
      ],
      "metadata": {
        "colab": {
          "base_uri": "https://localhost:8080/"
        },
        "id": "hqVKbzDA1BsN",
        "outputId": "19224a14-4140-4107-a870-3fded87019f3"
      },
      "execution_count": null,
      "outputs": [
        {
          "output_type": "execute_result",
          "data": {
            "text/plain": [
              "array([[ 0.96685425, -1.0662915 ],\n",
              "       [-0.9337085 ,  1.03314575]])"
            ]
          },
          "metadata": {},
          "execution_count": 15
        }
      ]
    },
    {
      "cell_type": "markdown",
      "source": [
        "## 5.  Updated Weights"
      ],
      "metadata": {
        "id": "4MZMc-2IB-p1"
      }
    },
    {
      "cell_type": "code",
      "source": [
        "def updatedWeights():\n",
        "  for i in range(0, 3):\n",
        "    print(f\"Updated Weight {i+1}:\",backwardProp(x, w1, w2, w3)[i], \"\\n\")"
      ],
      "metadata": {
        "id": "kz0n1ask1Cun"
      },
      "execution_count": null,
      "outputs": []
    },
    {
      "cell_type": "markdown",
      "source": [
        "The updated weights function simply uses the backward propagation function, and outputs each index in the tuple separately."
      ],
      "metadata": {
        "id": "EQjZZozDj3tW"
      }
    },
    {
      "cell_type": "markdown",
      "source": [
        "### Output"
      ],
      "metadata": {
        "id": "v1u98mNH7ZE3"
      }
    },
    {
      "cell_type": "code",
      "source": [
        "updatedWeights()"
      ],
      "metadata": {
        "colab": {
          "base_uri": "https://localhost:8080/"
        },
        "id": "oh6VujxrJ1Pj",
        "outputId": "cccec282-b98e-4de9-f680-893f836977eb"
      },
      "execution_count": null,
      "outputs": [
        {
          "output_type": "stream",
          "name": "stdout",
          "text": [
            "Updated Weight 1: [-1.23995798  0.76004202] \n",
            "\n",
            "Updated Weight 2: [[0.91713034 1.83426069]\n",
            " [1.83426069 0.91713034]] \n",
            "\n",
            "Updated Weight 3: [[ 0.96685425 -1.0662915 ]\n",
            " [-0.9337085   1.03314575]] \n",
            "\n"
          ]
        }
      ]
    }
  ]
}